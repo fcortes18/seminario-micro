{
 "cells": [
  {
   "cell_type": "code",
   "execution_count": null,
   "id": "778c30cb",
   "metadata": {},
   "outputs": [
    {
     "data": {
      "image/png": "[encoded data removed]",
      "text/plain": [
       "<Figure size 800x600 with 1 Axes>"
      ]
     },
     "metadata": {},
     "output_type": "display_data"
    },
    {
     "name": "stdout",
     "output_type": "stream",
     "text": [
      "Fw1 = 0.8260, w2 = -0.2624\n",
      "bias: b = 0.9547\n",
      "Entrada: [0, 0] -> Salida: 1 (Valor esperado: 0)\n",
      "Entrada: [0, 1] -> Salida: 1 (Valor esperado: 1)\n",
      "Entrada: [1, 0] -> Salida: 1 (Valor esperado: 1)\n",
      "Entrada: [1, 1] -> Salida: 1 (Valor esperado: 1)\n"
     ]
    }
   ],
   "source": [
    "import numpy as np\n",
    "import matplotlib.pyplot as plt\n",
    "from matplotlib.animation import FuncAnimation\n",
    "\n",
    "N = 100 # Epocas\n",
    "Q = 4 # Dimensiones de las entradas\n",
    "p0 = np.array([1, 1, 1, 1]) # Patron de bias\n",
    "p1 = np.array([0, 0, 1, 1]) # Patron uno de entrada\n",
    "p2 = np.array([0, 1, 0, 1]) # Patron dos de entrada\n",
    "\n",
    "y = np.array([0, 1, 1, 1]) # Salidas deseadas compuerta OR\n",
    "\n",
    "alpha = 0.1\n",
    "\n",
    "w = 2 * np.random.rand(2) - 1\n",
    "b = 2 * np.random.rand() - 1\n",
    "\n",
    "pr = np.arange(-0.5, 2, 0.01)\n",
    "\n",
    "def hardlim(n):\n",
    "    return np.where(n >= 0, 1, 0)\n",
    "\n",
    "fig, ax = plt.subplots(figsize=(8, 6))\n",
    "ax.set_xlim(-0.5, 2)\n",
    "ax.set_ylim(-0.5, 2)\n",
    "ax.grid(True)\n",
    "ax.set_xlabel('p1')\n",
    "ax.set_ylabel('p2')\n",
    "ax.set_title('Perceptron')\n",
    "\n",
    "ax.plot(p1[0], p2[0], 'bo', markersize=10)\n",
    "ax.plot(p1[1], p2[1], 'bo', markersize=10)\n",
    "ax.plot(p1[2], p2[2], 'bo', markersize=10)\n",
    "ax.plot(p1[3], p2[3], 'bo', markersize=10)\n",
    "\n",
    "line, = ax.plot([], [], 'r-', linewidth=2)\n",
    "\n",
    "def train():\n",
    "    global w, b\n",
    "    \n",
    "    for epoch in range(N):\n",
    "        a = np.zeros(Q)\n",
    "        e = np.zeros(Q)\n",
    "        \n",
    "        for q in range(Q):\n",
    "            net_input = w[0] * p1[q] + w[1] * p2[q] + b * p0[q]\n",
    "            a[q] = hardlim(net_input)\n",
    "            \n",
    "            e[q] = y[q] - a[q]\n",
    "            \n",
    "            w[0] = w[0] + alpha * e[q] * p1[q]\n",
    "            w[1] = w[1] + alpha * e[q] * p2[q]\n",
    "            b = b + e[q]\n",
    "        \n",
    "        if epoch % 10 == 0:\n",
    "            yield epoch\n",
    "\n",
    "def update(frame):\n",
    "    if w[1] != 0:\n",
    "        boundary = -b / w[1] - w[0] / w[1] * pr\n",
    "        line.set_data(pr, boundary)\n",
    "    return line,\n",
    "\n",
    "anim = FuncAnimation(fig, update, frames=train, interval=40, \n",
    "                     blit=True, repeat=False, cache_frame_data=False)\n",
    "\n",
    "plt.tight_layout()\n",
    "plt.show()\n",
    "\n",
    "print(f\"w1 = {w[0]:.4f}, w2 = {w[1]:.4f}\")\n",
    "print(f\"bias: b = {b:.4f}\")\n",
    "\n",
    "\n",
    "for q in range(Q):\n",
    "    net_input = w[0] * p1[q] + w[1] * p2[q] + b * p0[q]\n",
    "    output = hardlim(net_input)\n",
    "    print(f\"Entrada: [{p1[q]}, {p2[q]}] -> Salida: {output} (Valor esperado: {y[q]})\")"
   ]
  }
 ],
 "metadata": {
  "kernelspec": {
   "display_name": "Python 3",
   "language": "python",
   "name": "python3"
  },
  "language_info": {
   "codemirror_mode": {
    "name": "ipython",
    "version": 3
   },
   "file_extension": ".py",
   "mimetype": "text/x-python",
   "name": "python",
   "nbconvert_exporter": "python",
   "pygments_lexer": "ipython3",
   "version": "3.9.6"
  }
 },
 "nbformat": 4,
 "nbformat_minor": 5
}
