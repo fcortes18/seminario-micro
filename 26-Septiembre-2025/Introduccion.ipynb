{
 "cells": [
  {
   "cell_type": "markdown",
   "id": "9c6b1268",
   "metadata": {},
   "source": [
    "Dr Luis Alberto Paramo Carranza\n",
    "\n",
    "lparamoc@ipn.mx\n",
    "\n",
    "# Aspectos de IA\n",
    "\n",
    "- Redes neuronales artificiales\n",
    "- Logica difusa\n",
    "    - Fussy Logic\n",
    "\n",
    "- Algoritmos geneticos"
   ]
  },
  {
   "cell_type": "markdown",
   "id": "48322d21",
   "metadata": {},
   "source": [
    "# Redes Neuronales Artificiales\n",
    "\n",
    "Son aproximadores no lineales para clasificaciones"
   ]
  }
 ],
 "metadata": {
  "language_info": {
   "name": "python"
  }
 },
 "nbformat": 4,
 "nbformat_minor": 5
}
