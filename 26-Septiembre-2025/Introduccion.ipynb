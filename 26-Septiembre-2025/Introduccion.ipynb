{
 "cells": [
  {
   "cell_type": "markdown",
   "id": "9c6b1268",
   "metadata": {},
   "source": [
    "Dr Luis Alberto Paramo Carranza\n",
    "\n",
    "lparamoc@ipn.mx\n",
    "\n",
    "# Aspectos de IA\n",
    "\n",
    "- Redes neuronales artificiales\n",
    "- Logica difusa\n",
    "    - Fussy Logic\n",
    "\n",
    "- Algoritmos geneticos"
   ]
  },
  {
   "cell_type": "markdown",
   "id": "48322d21",
   "metadata": {},
   "source": [
    "# Redes Neuronales Artificiales\n",
    "\n",
    "Son aproximadores no lineales para clasificaciones\n",
    "\n",
    "- Es robusto y tolerante a fallas\n",
    "- Es flexible, se ajusta a nuevos ambientes de aprendizaje\n",
    "\n",
    "Se estan usando en la mayoria de sistemas:\n",
    "- Procesamiento de caracteres\n",
    "- Reconocimiento de patrones\n",
    "- Planeacion y prediccion\n",
    "- Interfaces hombre/maquina\n",
    "- Control, clasificacion y optimizacion\n",
    "- Conduccion y vuelo autonomo\n",
    "- Analisis genetico y pronostico de enfermedades\n",
    "\n",
    "Concepto de neurona biologica nos ayuda para el concepto de neurona artificial\n",
    "\n",
    "- Soma\n",
    "- Nucleo (Es como si se llenara un capacitor y se genera un potencial, donde esta señal se va por el axon)\n",
    "- Dentritas [Entradas] (Van ir conectados a los botones de una neurona anterior)\n",
    "- Botones terminales [Salidas]\n",
    "- Axón de Hillock\n",
    "- Axón\n",
    "- Mielina (Una forma de \"resistencia\", mientras mas pura es mas rapido pasa la señal)\n",
    "- Nodos de Ranvier (corre mas \"lento\" porque no tiene mielina)\n",
    "\n",
    "Etapas importantes del diseño\n",
    "- Entrenamiento (Training)\n",
    "- Pruebas (Testing)\n",
    "\n",
    "\n",
    "\n",
    "\n"
   ]
  }
 ],
 "metadata": {
  "language_info": {
   "name": "python"
  }
 },
 "nbformat": 4,
 "nbformat_minor": 5
}
